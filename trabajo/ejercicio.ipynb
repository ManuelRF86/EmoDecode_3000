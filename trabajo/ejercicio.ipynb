{
 "cells": [
  {
   "cell_type": "code",
   "execution_count": 54,
   "metadata": {},
   "outputs": [],
   "source": [
    "import numpy as np\n",
    "import pandas as pd \n",
    "import matplotlib.pyplot as plt\n",
    "from keras.preprocessing.image import ImageDataGenerator, load_img\n",
    "from sklearn.model_selection import train_test_split\n",
    "import matplotlib.pyplot as plt\n",
    "import random\n",
    "import os\n",
    "from skimage.io import imread\n",
    "import cv2"
   ]
  },
  {
   "cell_type": "code",
   "execution_count": 55,
   "metadata": {},
   "outputs": [],
   "source": [
    "IMAGE_WIDTH=32\n",
    "IMAGE_HEIGHT=32\n",
    "IMAGE_CHANNELS=3\n",
    "IMAGE_SIZE=(IMAGE_WIDTH, IMAGE_HEIGHT, IMAGE_CHANNELS)\n",
    "BATCH_SIZE = 32\n",
    "EPOCHS = 10"
   ]
  },
  {
   "cell_type": "code",
   "execution_count": 56,
   "metadata": {},
   "outputs": [],
   "source": [
    "ROOT_PATH = os.getcwd()"
   ]
  },
  {
   "cell_type": "code",
   "execution_count": 57,
   "metadata": {},
   "outputs": [],
   "source": [
    "TRAIN_PATH_angry = ROOT_PATH + \"\\\\..\\\\data\\\\images\\\\train\\\\angry\\\\\"\n",
    "TRAIN_PATH_disgust = ROOT_PATH + \"\\\\..\\\\data\\\\images\\\\train\\\\disgust\\\\\"\n",
    "TRAIN_PATH_fear = ROOT_PATH + \"\\\\..\\\\data\\\\images\\\\train\\\\fear\\\\\"\n",
    "TRAIN_PATH_happy = ROOT_PATH + \"\\\\..\\\\data\\\\images\\\\train\\\\happy\\\\\"\n",
    "TRAIN_PATH_neutral = ROOT_PATH + \"\\\\..\\\\data\\\\images\\\\train\\\\neutral\\\\\"\n",
    "TRAIN_PATH_sad = ROOT_PATH + \"\\\\..\\\\data\\\\images\\\\train\\\\sad\\\\\"\n",
    "TRAIN_PATH_surprise = ROOT_PATH + \"\\\\..\\\\data\\\\images\\\\train\\\\surprise\\\\\""
   ]
  },
  {
   "cell_type": "code",
   "execution_count": 58,
   "metadata": {},
   "outputs": [],
   "source": [
    "\n",
    "filenames_angry = os.listdir(TRAIN_PATH_angry)\n",
    "\n",
    "    \n",
    "df_1 = pd.DataFrame({\n",
    "    'filename': filenames_angry,\n",
    "    'category': 'angry'\n",
    "})\n",
    "\n",
    "filenames_disgust = os.listdir(TRAIN_PATH_disgust)\n",
    "\n",
    "    \n",
    "df_2 = pd.DataFrame({\n",
    "    'filename': filenames_disgust,\n",
    "    'category': 'disgust'\n",
    "})\n",
    "\n",
    "filenames_fear = os.listdir(TRAIN_PATH_fear)\n",
    "\n",
    "    \n",
    "df_3 = pd.DataFrame({\n",
    "    'filename': filenames_fear,\n",
    "    'category': 'fear'\n",
    "})\n",
    "\n",
    "filenames_happy = os.listdir(TRAIN_PATH_happy)\n",
    "\n",
    "    \n",
    "df_4 = pd.DataFrame({\n",
    "    'filename': filenames_happy,\n",
    "    'category': 'happy'\n",
    "})\n",
    "\n",
    "filenames_neutral = os.listdir(TRAIN_PATH_neutral)\n",
    "\n",
    "    \n",
    "df_5 = pd.DataFrame({\n",
    "    'filename': filenames_neutral,\n",
    "    'category': 'neutral'\n",
    "})\n",
    "\n",
    "filenames_sad = os.listdir(TRAIN_PATH_sad)\n",
    "\n",
    "    \n",
    "df_6 = pd.DataFrame({\n",
    "    'filename': filenames_sad,\n",
    "    'category': 'sad'\n",
    "})\n",
    "\n",
    "filenames_surprise = os.listdir(TRAIN_PATH_surprise)\n",
    "\n",
    "    \n",
    "df_7 = pd.DataFrame({\n",
    "    'filename': filenames_surprise,\n",
    "    'category': 'surprise'\n",
    "})\n",
    "\n"
   ]
  },
  {
   "cell_type": "code",
   "execution_count": 59,
   "metadata": {},
   "outputs": [],
   "source": [
    "df_train = pd.concat([df_1,df_2,df_3,df_4,df_5,df_6,df_7])"
   ]
  },
  {
   "cell_type": "code",
   "execution_count": 60,
   "metadata": {},
   "outputs": [
    {
     "data": {
      "text/html": [
       "<div>\n",
       "<style scoped>\n",
       "    .dataframe tbody tr th:only-of-type {\n",
       "        vertical-align: middle;\n",
       "    }\n",
       "\n",
       "    .dataframe tbody tr th {\n",
       "        vertical-align: top;\n",
       "    }\n",
       "\n",
       "    .dataframe thead th {\n",
       "        text-align: right;\n",
       "    }\n",
       "</style>\n",
       "<table border=\"1\" class=\"dataframe\">\n",
       "  <thead>\n",
       "    <tr style=\"text-align: right;\">\n",
       "      <th></th>\n",
       "      <th>filename</th>\n",
       "      <th>category</th>\n",
       "    </tr>\n",
       "  </thead>\n",
       "  <tbody>\n",
       "    <tr>\n",
       "      <th>0</th>\n",
       "      <td>0.jpg</td>\n",
       "      <td>angry</td>\n",
       "    </tr>\n",
       "    <tr>\n",
       "      <th>1</th>\n",
       "      <td>1.jpg</td>\n",
       "      <td>angry</td>\n",
       "    </tr>\n",
       "    <tr>\n",
       "      <th>2</th>\n",
       "      <td>10.jpg</td>\n",
       "      <td>angry</td>\n",
       "    </tr>\n",
       "    <tr>\n",
       "      <th>3</th>\n",
       "      <td>10002.jpg</td>\n",
       "      <td>angry</td>\n",
       "    </tr>\n",
       "    <tr>\n",
       "      <th>4</th>\n",
       "      <td>10016.jpg</td>\n",
       "      <td>angry</td>\n",
       "    </tr>\n",
       "    <tr>\n",
       "      <th>...</th>\n",
       "      <td>...</td>\n",
       "      <td>...</td>\n",
       "    </tr>\n",
       "    <tr>\n",
       "      <th>3200</th>\n",
       "      <td>9969.jpg</td>\n",
       "      <td>surprise</td>\n",
       "    </tr>\n",
       "    <tr>\n",
       "      <th>3201</th>\n",
       "      <td>9985.jpg</td>\n",
       "      <td>surprise</td>\n",
       "    </tr>\n",
       "    <tr>\n",
       "      <th>3202</th>\n",
       "      <td>9990.jpg</td>\n",
       "      <td>surprise</td>\n",
       "    </tr>\n",
       "    <tr>\n",
       "      <th>3203</th>\n",
       "      <td>9992.jpg</td>\n",
       "      <td>surprise</td>\n",
       "    </tr>\n",
       "    <tr>\n",
       "      <th>3204</th>\n",
       "      <td>9996.jpg</td>\n",
       "      <td>surprise</td>\n",
       "    </tr>\n",
       "  </tbody>\n",
       "</table>\n",
       "<p>28821 rows × 2 columns</p>\n",
       "</div>"
      ],
      "text/plain": [
       "       filename  category\n",
       "0         0.jpg     angry\n",
       "1         1.jpg     angry\n",
       "2        10.jpg     angry\n",
       "3     10002.jpg     angry\n",
       "4     10016.jpg     angry\n",
       "...         ...       ...\n",
       "3200   9969.jpg  surprise\n",
       "3201   9985.jpg  surprise\n",
       "3202   9990.jpg  surprise\n",
       "3203   9992.jpg  surprise\n",
       "3204   9996.jpg  surprise\n",
       "\n",
       "[28821 rows x 2 columns]"
      ]
     },
     "execution_count": 60,
     "metadata": {},
     "output_type": "execute_result"
    }
   ],
   "source": [
    "df_train"
   ]
  },
  {
   "cell_type": "code",
   "execution_count": 61,
   "metadata": {},
   "outputs": [
    {
     "data": {
      "text/plain": [
       "{'angry': 0,\n",
       " 'disgust': 1,\n",
       " 'fear': 2,\n",
       " 'happy': 3,\n",
       " 'neutral': 4,\n",
       " 'sad': 5,\n",
       " 'surprise': 6}"
      ]
     },
     "execution_count": 61,
     "metadata": {},
     "output_type": "execute_result"
    }
   ],
   "source": [
    "class_names = ['angry', 'disgust', 'fear', 'happy', 'neutral', 'sad','surprise']\n",
    "class_names_label = {class_name:i for i, class_name in enumerate(class_names)}\n",
    "class_names_label"
   ]
  },
  {
   "cell_type": "code",
   "execution_count": 62,
   "metadata": {},
   "outputs": [],
   "source": [
    "def read_data(path, im_size):\n",
    "    X = []\n",
    "    Y = []\n",
    "\n",
    "    ##### CODE #####\n",
    "    # Iterar sobre todo lo que haya en path\n",
    "    for file in os.listdir(path):\n",
    "        \n",
    "        # Leer la imagen a color y aplicarle el resize\n",
    "        image = imread(path + file)\n",
    "        smallimage = cv2.resize(image, (im_size, im_size))\n",
    "        \n",
    "        # Guardo en X\n",
    "        X.append(smallimage)\n",
    "        '''\n",
    "        category = file.split('.')[0]\n",
    "        # Miro si es perro y gato para guardar en Y\n",
    "        if category == 'angry':\n",
    "            Y.append(1)\n",
    "        elif category == 'disgust':\n",
    "            Y.append(2)\n",
    "        elif category == 'fear':\n",
    "            Y.append(3)\n",
    "        elif category == 'happy':\n",
    "            Y.append(4)\n",
    "        elif category == 'neutral':\n",
    "            Y.append(5)\n",
    "        elif category == 'sad':\n",
    "            Y.append(6)\n",
    "        elif category == 'surprise':\n",
    "            Y.append(7)'''\n",
    "\n",
    "    return np.array(X)\n",
    "    \n",
    "\n",
    "X_train1 = read_data(TRAIN_PATH_angry, IMAGE_WIDTH)\n",
    "#X_test1, y_test1 = read_data(TEST_PATH_angry, IMAGE_WIDTH)\n",
    "X_train2 = read_data(TRAIN_PATH_disgust, IMAGE_WIDTH)\n",
    "#X_test2, y_test2 = read_data(TEST_PATH_forest, IMAGE_WIDTH)\n",
    "X_train3= read_data(TRAIN_PATH_fear, IMAGE_WIDTH)\n",
    "#X_test3, y_test3 = read_data(TEST_PATH_glacier, IMAGE_WIDTH)\n",
    "X_train4 = read_data(TRAIN_PATH_happy, IMAGE_WIDTH)\n",
    "#X_test4, y_test4 = read_data(TEST_PATH_mountain, IMAGE_WIDTH)\n",
    "X_train5 = read_data(TRAIN_PATH_neutral, IMAGE_WIDTH)\n",
    "#X_test5, y_test5 = read_data(TEST_PATH_sea, IMAGE_WIDTH)\n",
    "X_train6 = read_data(TRAIN_PATH_sad, IMAGE_WIDTH)\n",
    "#X_test6, y_test6 = read_data(TEST_PATH_street, IMAGE_WIDTH)\n",
    "X_train7 = read_data(TRAIN_PATH_surprise, IMAGE_WIDTH)\n",
    "#X_test6, y_test6 = read_data(TEST_PATH_street, IMAGE_WIDTH)"
   ]
  },
  {
   "cell_type": "code",
   "execution_count": 68,
   "metadata": {},
   "outputs": [
    {
     "data": {
      "text/plain": [
       "(436, 32, 32)"
      ]
     },
     "execution_count": 68,
     "metadata": {},
     "output_type": "execute_result"
    }
   ],
   "source": [
    "X_train2.shape"
   ]
  },
  {
   "cell_type": "code",
   "execution_count": 69,
   "metadata": {},
   "outputs": [],
   "source": [
    "X_train = np.vstack((X_train1, X_train2, X_train3, X_train4, X_train5, X_train6,X_train7))"
   ]
  },
  {
   "cell_type": "code",
   "execution_count": 71,
   "metadata": {},
   "outputs": [
    {
     "data": {
      "text/plain": [
       "(28821, 32, 32)"
      ]
     },
     "execution_count": 71,
     "metadata": {},
     "output_type": "execute_result"
    }
   ],
   "source": [
    "X_train.shape"
   ]
  },
  {
   "cell_type": "code",
   "execution_count": 76,
   "metadata": {},
   "outputs": [],
   "source": [
    "df_train['numero_categoria'] = df_train['category'].map(class_names_label)"
   ]
  },
  {
   "cell_type": "code",
   "execution_count": 78,
   "metadata": {},
   "outputs": [],
   "source": [
    "X_test = df_train['numero_categoria']"
   ]
  },
  {
   "cell_type": "code",
   "execution_count": 79,
   "metadata": {},
   "outputs": [
    {
     "data": {
      "image/png": "[encoded data removed]",
      "text/plain": [
       "<Figure size 640x480 with 1 Axes>"
      ]
     },
     "metadata": {},
     "output_type": "display_data"
    }
   ],
   "source": [
    "plt.imshow(X_train[1]);"
   ]
  },
  {
   "cell_type": "code",
   "execution_count": 81,
   "metadata": {},
   "outputs": [
    {
     "name": "stdout",
     "output_type": "stream",
     "text": [
      "Min: 0\n",
      "Max: 255\n"
     ]
    }
   ],
   "source": [
    "print(\"Min:\", np.min(X_train))\n",
    "print(\"Max:\", np.max(X_train))"
   ]
  },
  {
   "cell_type": "code",
   "execution_count": 82,
   "metadata": {},
   "outputs": [],
   "source": [
    "X_train = X_train / 255.0"
   ]
  },
  {
   "cell_type": "code",
   "execution_count": 83,
   "metadata": {},
   "outputs": [],
   "source": [
    "from tensorflow import keras\n",
    "from tensorflow.keras.utils import to_categorical"
   ]
  },
  {
   "cell_type": "code",
   "execution_count": null,
   "metadata": {},
   "outputs": [],
   "source": []
  }
 ],
 "metadata": {
  "kernelspec": {
   "display_name": "Python 3",
   "language": "python",
   "name": "python3"
  },
  "language_info": {
   "codemirror_mode": {
    "name": "ipython",
    "version": 3
   },
   "file_extension": ".py",
   "mimetype": "text/x-python",
   "name": "python",
   "nbconvert_exporter": "python",
   "pygments_lexer": "ipython3",
   "version": "3.11.5"
  }
 },
 "nbformat": 4,
 "nbformat_minor": 2
}
